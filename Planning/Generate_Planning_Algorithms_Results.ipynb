{
 "cells": [
  {
   "cell_type": "code",
   "execution_count": 7,
   "metadata": {},
   "outputs": [],
   "source": [
    "# Import libraries and setup parameters for testing:\n",
    "import numpy as np\n",
    "import time\n",
    "from A_star_Dijkstra_utilities import *\n",
    "import importlib\n",
    "from matplotlib import pyplot as plt\n",
    "\n",
    "plt.rc('xtick', labelsize=20) \n",
    "plt.rc('ytick', labelsize=20) \n",
    "\n",
    "\n",
    "import params\n",
    "\n",
    "importlib.reload(params)\n",
    "\n",
    "# Generate grid and return X and Y co-ordinates of all the nodes:\n",
    "[params.X,params.Y] = generate_grid()\n",
    "\n",
    "numNodes = len(params.X)"
   ]
  },
  {
   "cell_type": "code",
   "execution_count": 2,
   "metadata": {},
   "outputs": [
    {
     "name": "stdout",
     "output_type": "stream",
     "text": [
      "--- Evaluating Python Dictionary ---\n",
      " -- Current Grid Resolution is:  2.0\n",
      " -- Current Grid Resolution is:  1.5\n",
      " -- Current Grid Resolution is:  1.25\n",
      " -- Current Grid Resolution is:  1.0\n",
      " -- Current Grid Resolution is:  0.75\n",
      " -- Current Grid Resolution is:  0.5\n",
      " -- Current Grid Resolution is:  0.25\n",
      "--- Evaluating Min-Heap ---\n",
      " -- Current Grid Resolution is:  2.0\n",
      " -- Current Grid Resolution is:  1.5\n",
      " -- Current Grid Resolution is:  1.25\n",
      " -- Current Grid Resolution is:  1.0\n",
      " -- Current Grid Resolution is:  0.75\n",
      " -- Current Grid Resolution is:  0.5\n",
      " -- Current Grid Resolution is:  0.25\n"
     ]
    }
   ],
   "source": [
    "### Test #1: Comparison of Python Dictionary vs Min-Heap as the Priority Queue in Dijkstra Algorithm: \n",
    "\n",
    "# Setup Start and Goal nodes:\n",
    "startIdx = get_node_idx(0,0)\n",
    "goalIdx =  get_node_idx(48,0)\n",
    "epsilon = 0 # Using Dijkstra\n",
    "\n",
    "gridResList = [2.0, 1.5, 1.25 , 1.0 , 0.75, 0.5, 0.25]\n",
    "\n",
    "# Vary the grid resolution from 1.5 to 0.5 in decrements of 0.1 and see the difference:\n",
    "\n",
    "# a. Using Python Dict\n",
    "\n",
    "print (\"--- Evaluating Python Dictionary ---\")\n",
    "pythonDictTimes = {}\n",
    "\n",
    "\n",
    "for res in gridResList: \n",
    "    \n",
    "    params.gridRes = res\n",
    "    \n",
    "    print (\" -- Current Grid Resolution is: \" , params.gridRes)\n",
    "    \n",
    "    # Re-generate grid and return X and Y co-ordinates of all the nodes:\n",
    "    [params.X,params.Y] = generate_grid()\n",
    "    \n",
    "    numNodes = len(params.X)\n",
    "    \n",
    "    start = time.time()   \n",
    "    \n",
    "\n",
    "    # Run the Dijkstra algorithm:\n",
    "    dijDictPathIndices , dictLengthDij = astar_dict(startIdx,goalIdx, numNodes, epsilon)  \n",
    "\n",
    "    end = time.time()\n",
    "    \n",
    "    # Append the time taken to the List of times: \n",
    "    pythonDictTimes[numNodes] = end - start\n",
    "    \n",
    "\n",
    "# b. Using a Min-Heap: \n",
    "print (\"--- Evaluating Min-Heap ---\")\n",
    "heapTimes = {}\n",
    "\n",
    "\n",
    "for res in gridResList: \n",
    "    \n",
    "    params.gridRes = res\n",
    "    \n",
    "    print (\" -- Current Grid Resolution is: \" , params.gridRes)\n",
    "    \n",
    "    # Re-Generate grid and return X and Y co-ordinates of all the nodes:\n",
    "    [params.X,params.Y] = generate_grid()\n",
    "    \n",
    "    numNodes = len(params.X)\n",
    "    \n",
    "    start = time.time()\n",
    "\n",
    "    # Run the Dijkstra algorithm:\n",
    "    dijDictPathIndices , dictLengthDij = astar_heap(startIdx,goalIdx, numNodes, epsilon)  \n",
    "\n",
    "    end = time.time()\n",
    "    \n",
    "    # Append the time taken to the List of times: \n",
    "    heapTimes[numNodes] = end - start\n",
    "    \n",
    "print (\" Timing Analysis Complete!\")"
   ]
  },
  {
   "cell_type": "code",
   "execution_count": 2,
   "metadata": {},
   "outputs": [
    {
     "name": "stdout",
     "output_type": "stream",
     "text": [
      "Using matplotlib backend: TkAgg\n"
     ]
    },
    {
     "ename": "NameError",
     "evalue": "name 'pythonDictTimes' is not defined",
     "output_type": "error",
     "traceback": [
      "\u001b[0;31m---------------------------------------------------------------------------\u001b[0m",
      "\u001b[0;31mNameError\u001b[0m                                 Traceback (most recent call last)",
      "\u001b[0;32m<ipython-input-2-131db523f490>\u001b[0m in \u001b[0;36m<module>\u001b[0;34m()\u001b[0m\n\u001b[1;32m      3\u001b[0m \u001b[0mget_ipython\u001b[0m\u001b[0;34m(\u001b[0m\u001b[0;34m)\u001b[0m\u001b[0;34m.\u001b[0m\u001b[0mrun_line_magic\u001b[0m\u001b[0;34m(\u001b[0m\u001b[0;34m'matplotlib'\u001b[0m\u001b[0;34m,\u001b[0m \u001b[0;34m'auto'\u001b[0m\u001b[0;34m)\u001b[0m\u001b[0;34m\u001b[0m\u001b[0m\n\u001b[1;32m      4\u001b[0m \u001b[0;34m\u001b[0m\u001b[0m\n\u001b[0;32m----> 5\u001b[0;31m \u001b[0;32mfor\u001b[0m \u001b[0;34m(\u001b[0m\u001b[0mkd\u001b[0m\u001b[0;34m,\u001b[0m\u001b[0mvd\u001b[0m\u001b[0;34m)\u001b[0m \u001b[0;34m,\u001b[0m \u001b[0;34m(\u001b[0m\u001b[0mkh\u001b[0m\u001b[0;34m,\u001b[0m\u001b[0mvh\u001b[0m\u001b[0;34m)\u001b[0m \u001b[0;32min\u001b[0m \u001b[0mzip\u001b[0m\u001b[0;34m(\u001b[0m \u001b[0mpythonDictTimes\u001b[0m\u001b[0;34m.\u001b[0m\u001b[0mitems\u001b[0m\u001b[0;34m(\u001b[0m\u001b[0;34m)\u001b[0m \u001b[0;34m,\u001b[0m \u001b[0mheapTimes\u001b[0m\u001b[0;34m.\u001b[0m\u001b[0mitems\u001b[0m\u001b[0;34m(\u001b[0m\u001b[0;34m)\u001b[0m\u001b[0;34m)\u001b[0m\u001b[0;34m:\u001b[0m\u001b[0;34m\u001b[0m\u001b[0m\n\u001b[0m\u001b[1;32m      6\u001b[0m \u001b[0;34m\u001b[0m\u001b[0m\n\u001b[1;32m      7\u001b[0m     \u001b[0mplt\u001b[0m\u001b[0;34m.\u001b[0m\u001b[0mplot\u001b[0m\u001b[0;34m(\u001b[0m\u001b[0mkd\u001b[0m \u001b[0;34m,\u001b[0m \u001b[0mvd\u001b[0m\u001b[0;34m,\u001b[0m \u001b[0;34m'gs'\u001b[0m\u001b[0;34m)\u001b[0m\u001b[0;34m\u001b[0m\u001b[0m\n",
      "\u001b[0;31mNameError\u001b[0m: name 'pythonDictTimes' is not defined"
     ]
    }
   ],
   "source": [
    "### Test # 1: Plotting the results: \n",
    "\n",
    "%matplotlib auto \n",
    "\n",
    "for (kd,vd) , (kh,vh) in zip( pythonDictTimes.items() , heapTimes.items()): \n",
    "    \n",
    "    plt.plot(kd , vd, 'gs')\n",
    "    plt.plot(kh, vh ,' m*')\n",
    "    \n",
    "\n",
    "plt.grid()\n",
    "plt.xlabel('Number of nodes in the Grid')\n",
    "plt.ylabel('Time taken by Dijkstra Algorithm (secs)')\n",
    "plt.legend([ 'Using Python Dictionary' , 'Using a Min-Heap'])"
   ]
  },
  {
   "cell_type": "code",
   "execution_count": 3,
   "metadata": {},
   "outputs": [],
   "source": [
    "pythonDictTimes = {}\n",
    "\n",
    "# 7 cases: \n",
    "pythonDictTimes[961] = 3.5299184322357178\n",
    "pythonDictTimes[1681] = 6.863882780075073\n",
    "pythonDictTimes[2401] = 8.755292177200317\n",
    "pythonDictTimes[3721] = 13.99453091621399\n",
    "pythonDictTimes[6561] = 25.876901388168335\n",
    "pythonDictTimes[14641] = 70.27232265472412\n",
    "pythonDictTimes[22801] = 89.15924119949341\n",
    "#pythonDictTimes[58081] = 265.7845811843872\n",
    "\n",
    "heapTimes = {}\n",
    "\n",
    "# 7 cases: \n",
    "heapTimes[961]  = 3.373509645462036\n",
    "heapTimes[1681] = 6.144120693206787\n",
    "heapTimes[2401] = 8.874934911727905\n",
    "heapTimes[3721] = 14.886215209960938\n",
    "heapTimes[6561] = 28.74379324913025\n",
    "heapTimes[14641] = 55.28575253486633\n",
    "heapTimes[22801] = 86.77866268157959\n",
    "#heapTimes[58081] = 282.7803084850311\n"
   ]
  },
  {
   "cell_type": "code",
   "execution_count": 5,
   "metadata": {},
   "outputs": [
    {
     "name": "stdout",
     "output_type": "stream",
     "text": [
      "Using matplotlib backend: TkAgg\n"
     ]
    },
    {
     "data": {
      "text/plain": [
       "Text(0.5,1,'Evaluation of a Python Dictionary vs a Min-Heap for the Priority Queue in Dijkstra')"
      ]
     },
     "execution_count": 5,
     "metadata": {},
     "output_type": "execute_result"
    }
   ],
   "source": [
    "### Test # 1: Plotting the results: \n",
    "%matplotlib auto \n",
    "\n",
    "for (kd,vd) , (kh,vh) in zip( pythonDictTimes.items() , heapTimes.items()): \n",
    "    \n",
    "    plt.plot(kd , vd, 'gs', markersize =10)\n",
    "    plt.plot(kh, vh ,' m*', markersize =10)\n",
    "    \n",
    "\n",
    "plt.grid()\n",
    "plt.xlabel('Number of nodes in the Grid', fontsize =20)\n",
    "plt.ylabel('Time taken by Dijkstra Algorithm (secs)' , fontsize =20)\n",
    "plt.legend([ 'Using Python Dictionary' , 'Using a Min-Heap'], fontsize = 20)\n",
    "plt.title('Evaluation of a Python Dictionary vs a Min-Heap for the Priority Queue in Dijkstra', fontsize =25)\n",
    "\n"
   ]
  },
  {
   "cell_type": "code",
   "execution_count": 10,
   "metadata": {},
   "outputs": [
    {
     "name": "stdout",
     "output_type": "stream",
     "text": [
      "--- A* Algorithm : Weighting factor evaluation---\n",
      " Grid Resolution used is 2.0\n",
      " -- Current Weighting Factor  is:  0.0\n",
      " -- Current Weighting Factor  is:  0.05\n",
      " -- Current Weighting Factor  is:  0.1\n",
      " -- Current Weighting Factor  is:  0.15\n",
      " -- Current Weighting Factor  is:  0.2\n",
      " -- Current Weighting Factor  is:  0.25\n",
      " -- Current Weighting Factor  is:  0.3\n",
      " -- Current Weighting Factor  is:  0.35\n",
      " -- Current Weighting Factor  is:  0.4\n",
      " -- Current Weighting Factor  is:  0.45\n",
      " -- Current Weighting Factor  is:  0.5\n",
      " -- Current Weighting Factor  is:  0.55\n",
      " -- Current Weighting Factor  is:  0.6\n",
      " -- Current Weighting Factor  is:  0.65\n",
      " -- Current Weighting Factor  is:  0.7\n",
      " -- Current Weighting Factor  is:  0.75\n",
      " -- Current Weighting Factor  is:  0.8\n",
      " -- Current Weighting Factor  is:  0.85\n",
      " -- Current Weighting Factor  is:  0.9\n",
      " -- Current Weighting Factor  is:  0.95\n",
      " Weighting Factor Analysis Complete!\n"
     ]
    }
   ],
   "source": [
    "### Test #2: Evaluating the effect of the weighting factor in A* on the path length: \n",
    "\n",
    "# epsilon - Weighting factor used in A* algorithm:\n",
    "\n",
    "# Setup Start and Goal nodes:\n",
    "startIdx = get_node_idx(0,0)\n",
    "goalIdx =  get_node_idx(30,10)\n",
    "\n",
    "# Vary the value of epsilon between  from 0 to 10 in increments of 1 and see the difference\n",
    "    \n",
    "\n",
    "\n",
    "print (\"--- A* Algorithm : Weighting factor evaluation---\")\n",
    "print (\" Grid Resolution used is 2.0\")\n",
    "\n",
    "weightingFactors = []\n",
    "aStarTime = []\n",
    "aStarLength = []\n",
    "\n",
    "weightingFactors = np.arange(0,1,0.05) \n",
    "\n",
    "\n",
    "for epsilon in weightingFactors:     \n",
    "    \n",
    "    print (\" -- Current Weighting Factor  is: \" , epsilon)\n",
    "    \n",
    "    start = time.time()\n",
    "\n",
    "    # Run the Dijkstra algorithm:\n",
    "    aStarPathIndices , pathLength = astar_heap(startIdx,goalIdx, numNodes, epsilon)  \n",
    "\n",
    "    end = time.time()\n",
    "    \n",
    "    # Append the results to the lists:\n",
    "    aStarTime.append(end - start)\n",
    "    aStarLength.append(pathLength)\n",
    "    \n",
    "    \n",
    "print (\" Weighting Factor Analysis Complete!\")"
   ]
  },
  {
   "cell_type": "code",
   "execution_count": 11,
   "metadata": {},
   "outputs": [
    {
     "name": "stdout",
     "output_type": "stream",
     "text": [
      "Using matplotlib backend: TkAgg\n"
     ]
    },
    {
     "data": {
      "text/plain": [
       "Text(0.5,1,' Analysis: Effect of weighting factor on A* algorithm')"
      ]
     },
     "execution_count": 11,
     "metadata": {},
     "output_type": "execute_result"
    }
   ],
   "source": [
    "### Test 2: Plotting the results: \n",
    "%matplotlib auto\n",
    "fig, axes = plt.subplots(2,1 , sharex = True)\n",
    "axes[0].plot(weightingFactors, aStarLength, 'm--*', markersize =10)\n",
    "axes[1].plot(weightingFactors, aStarTime, 'r--s', markersize =10)\n",
    "    \n",
    "\n",
    "\n",
    "plt.xlabel('Weighting Factor used in A* algorithm', fontsize =20)\n",
    "axes[0].set_ylabel('Path Length',fontsize =20)\n",
    "axes[1].set_ylabel('Time  (secs)',fontsize =20)\n",
    "axes[0].grid()\n",
    "axes[1].grid()\n",
    "axes[0].set_title(' Analysis: Effect of weighting factor on A* algorithm',fontsize =30)\n",
    "#plt.set_facecolor('white')\n",
    "# plt.show()"
   ]
  },
  {
   "cell_type": "code",
   "execution_count": 7,
   "metadata": {},
   "outputs": [],
   "source": [
    "gridResArr = [1.0 , 1.25, 1.5, 2.0, 2.5]\n",
    "timeArr = [16.3288 ,9.4606,6.0517,3.6055,2.3331]\n",
    "lengthArr = [146.5685, 149.0685, 151.1543, 149.7401,155.1040]\n",
    "minArr = [2.33 , 2.33, 2.33, 2.33, 2.33]"
   ]
  },
  {
   "cell_type": "code",
   "execution_count": 8,
   "metadata": {},
   "outputs": [
    {
     "name": "stdout",
     "output_type": "stream",
     "text": [
      "Using matplotlib backend: TkAgg\n"
     ]
    },
    {
     "data": {
      "text/plain": [
       "Text(0.5,1,' Analysis: Effect of grid resolution on Dijkstra algorithm')"
      ]
     },
     "execution_count": 8,
     "metadata": {},
     "output_type": "execute_result"
    }
   ],
   "source": [
    "### Test 3: Plotting the results: \n",
    "%matplotlib auto\n",
    "fig, axes = plt.subplots(2,1 , sharex = True)\n",
    "axes[0].plot(gridResArr, lengthArr, 'm--*', markersize =10)\n",
    "axes[1].plot(gridResArr, timeArr, 'r--s', markersize =10)\n",
    "axes[1].plot(gridResArr, minArr, 'k--')\n",
    "    \n",
    "\n",
    "\n",
    "plt.xlabel('Grid Resolution used in Dijkstra algorithm', fontsize =20)\n",
    "axes[0].set_ylabel('Path Length',fontsize =20)\n",
    "axes[1].set_ylabel('Time  (secs)',fontsize =20)\n",
    "axes[0].grid()\n",
    "axes[1].grid()\n",
    "axes[0].set_title(' Analysis: Effect of grid resolution on Dijkstra algorithm',fontsize =30)"
   ]
  },
  {
   "cell_type": "code",
   "execution_count": 1,
   "metadata": {},
   "outputs": [],
   "source": [
    "## Effect of Grid Resolution on A* algorithm: \n",
    "gridResArr = [1.0 , 1.25, 1.5, 2.0, 2.5]\n",
    "timeArr = [14.1069, 8.9177,7.9892, 3.2081, 2.7743,  ]\n",
    "lengthArr = [160.4091, 164.2982,166.9446, 165.8233, 166.9238  ]\n"
   ]
  },
  {
   "cell_type": "code",
   "execution_count": 5,
   "metadata": {},
   "outputs": [
    {
     "name": "stdout",
     "output_type": "stream",
     "text": [
      "Using matplotlib backend: TkAgg\n"
     ]
    },
    {
     "data": {
      "text/plain": [
       "Text(0.5,1,' Analysis: Effect of grid resolution on A* algorithm')"
      ]
     },
     "execution_count": 5,
     "metadata": {},
     "output_type": "execute_result"
    }
   ],
   "source": [
    "### Test 3: Plotting the results: \n",
    "%matplotlib auto\n",
    "fig, axes = plt.subplots(2,1 , sharex = True)\n",
    "axes[0].plot(gridResArr, lengthArr, 'm--*', markersize =10)\n",
    "axes[1].plot(gridResArr, timeArr, 'r--s', markersize =10)\n",
    "    \n",
    "\n",
    "\n",
    "plt.xlabel('Grid Resolution used in A* algorithm', fontsize =20)\n",
    "axes[0].set_ylabel('Path Length',fontsize =20)\n",
    "axes[1].set_ylabel('Time  (secs)',fontsize =20)\n",
    "axes[0].grid()\n",
    "axes[1].grid()\n",
    "axes[0].set_title(' Analysis: Effect of grid resolution on A* algorithm',fontsize =30)"
   ]
  },
  {
   "cell_type": "code",
   "execution_count": null,
   "metadata": {},
   "outputs": [],
   "source": []
  }
 ],
 "metadata": {
  "kernelspec": {
   "display_name": "Python 3",
   "language": "python",
   "name": "python3"
  },
  "language_info": {
   "codemirror_mode": {
    "name": "ipython",
    "version": 3
   },
   "file_extension": ".py",
   "mimetype": "text/x-python",
   "name": "python",
   "nbconvert_exporter": "python",
   "pygments_lexer": "ipython3",
   "version": "3.5.2"
  }
 },
 "nbformat": 4,
 "nbformat_minor": 2
}

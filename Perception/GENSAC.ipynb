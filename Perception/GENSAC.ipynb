{
 "cells": [
  {
   "cell_type": "code",
   "execution_count": 1,
   "metadata": {},
   "outputs": [],
   "source": [
    "# Generalized Sampling and Consensus: \n",
    "\n",
    "# ETC: 27th January 2018 9 pm E.S.T\n",
    "\n",
    "# Input is an image with line segments. \n",
    "\n",
    "# 1.Run Canny Edge detector and get raw data points that potentially lie on edges (there may be outliers)\n",
    "\n",
    "# 2. Run GENSAC and retain only the lines with Prob Validity greater than a Threshold\n",
    "\n",
    "# 3. Using the segments which have membership in selected lines apply split algorithm "
   ]
  },
  {
   "cell_type": "code",
   "execution_count": 235,
   "metadata": {},
   "outputs": [],
   "source": [
    "import numpy as np\n",
    "from matplotlib import pyplot as plt\n",
    "from sklearn.neighbors import KDTree\n",
    "%matplotlib inline"
   ]
  },
  {
   "cell_type": "markdown",
   "metadata": {},
   "source": [
    "## Function to simulate points sampled from Lines:"
   ]
  },
  {
   "cell_type": "code",
   "execution_count": 211,
   "metadata": {},
   "outputs": [],
   "source": [
    "## Returns a list of tuples. Each tuple contains (x,y) co-ods of the points. \n",
    "def simulate_points(segments, nPoints, nOutliers, stdDevX, stdDevY, stdDevOut): \n",
    "    \n",
    "    \"\"\"\n",
    "    segments - List of lists. Each sub-lists consists of 2 tuples. Each Tuple containing (x,y) for the end points of line\n",
    "    nPoints - Number of points to be sampled from each line\n",
    "    nOutliers - Number of outliers to be sampled from each line\n",
    "    stdDevX  - Standard Deviation of noise in X\n",
    "    stdDevY  - Standard Deviation of noise in Y\n",
    "    \n",
    "    \"\"\"  \n",
    "    simPoints = []\n",
    "    simLines = []\n",
    "    \n",
    "    for seg in segments: \n",
    "        \n",
    "        minX, maxX = seg[0][0] , seg[1][0]\n",
    "        \n",
    "        line = get_line_eqn(seg[0], seg[1])\n",
    "        \n",
    "        for p in range(nPoints):\n",
    "                \n",
    "            x = minX + (maxX - minX)*np.random.random_sample() + stdDevX*np.random.randn()\n",
    "                \n",
    "            y = (line[0] - x*np.cos(line[1]))/(np.sin(line[1])) + stdDevY*np.random.randn()\n",
    "            \n",
    "            simPoints.append([x,y])\n",
    "            \n",
    "        for x in range(nOutliers): \n",
    "            \n",
    "            x = minX + (maxX - minX)*np.random.random_sample() + stdDevX*np.random.randn()\n",
    "            \n",
    "            y = (line[0] - x*np.cos(line[1]))/(np.sin(line[1])) + stdDevOut*np.random.randn()\n",
    "            \n",
    "            simPoints.append([x,y])            \n",
    "            \n",
    "            \n",
    "        simLines.append(line)\n",
    "            \n",
    "    return simPoints, simLines\n",
    "            \n",
    "\n",
    "\n",
    "    \n",
    "    "
   ]
  },
  {
   "cell_type": "code",
   "execution_count": 212,
   "metadata": {},
   "outputs": [
    {
     "data": {
      "text/plain": [
       "Text(0,0.5,'Y-coordinate(m)')"
      ]
     },
     "execution_count": 212,
     "metadata": {},
     "output_type": "execute_result"
    },
    {
     "data": {
      "image/png": "[encoded data removed]",
      "text/plain": [
       "<matplotlib.figure.Figure at 0x7fb691784550>"
      ]
     },
     "metadata": {},
     "output_type": "display_data"
    }
   ],
   "source": [
    "### Setup simulation and create plot:\n",
    "\n",
    "# Segments (Models info): \n",
    "seg1 = [(1,1) ,(3,1)]\n",
    "seg2 = [(3,4) ,(5,4)]\n",
    "seg3 = [(4.5,0), (7,3)]\n",
    "\n",
    "segments = [seg1, seg2, seg3]\n",
    "\n",
    "# Number of points and outliers:\n",
    "nPoints = 15\n",
    "nOutliers = 5\n",
    "\n",
    "stdDevX = 0.01\n",
    "stdDevY = 0.01\n",
    "stdDevOut = 2\n",
    "                \n",
    "simPoints , simLines = simulate_points(segments, nPoints, nOutliers, stdDevX, stdDevY, stdDevOut)\n",
    "\n",
    "# Shuffle the points:\n",
    "#np.random.shuffle(simPoints)\n",
    "\n",
    "\n",
    "# Start by plotting the segments: \n",
    "for seg in segments: \n",
    "    \n",
    "    plt.plot([seg[0][0], seg[1][0]], [seg[0][1] , seg[1][1]])\n",
    "    \n",
    "\n",
    "# Now plot the points: \n",
    "for point in simPoints: \n",
    "    \n",
    "    plt.plot(point[0], point[1], 'ro')\n",
    "\n",
    "plt.grid()\n",
    "plt.gca().invert_yaxis()\n",
    "plt.xlabel(' X-coordinate (m)')\n",
    "plt.ylabel('Y-coordinate(m)')"
   ]
  },
  {
   "cell_type": "markdown",
   "metadata": {},
   "source": [
    "## Logistic Functions: "
   ]
  },
  {
   "cell_type": "code",
   "execution_count": 177,
   "metadata": {},
   "outputs": [],
   "source": [
    "### 1. Monotonically Increasing Logistic function:\n",
    "def log_inc(vec, param):     \n",
    "    \n",
    "    return vec**2/(vec**2 +param**2)\n",
    "\n",
    "### Monotonically decreasing logistic function: \n",
    "def log_dec(vec, param): \n",
    "    \n",
    "    return param**2/(vec**2 + param**2)"
   ]
  },
  {
   "cell_type": "code",
   "execution_count": 21,
   "metadata": {},
   "outputs": [],
   "source": [
    "### Alternative function to compute Probability of Membership: \n",
    "def Pr_mem_alt(errMat,errThresh, e_tilde): \n",
    "    \n",
    "#     Pr_C= np.zeros_like(errMat)\n",
    "    \n",
    "#     # Threshold the values in the error matrix: \n",
    "#     Pr_C[errMat > errThresh] = 0\n",
    "    \n",
    "#     Pr_C[errMat < errThresh] = 1\n",
    "    \n",
    "    errMat[errMat > errThresh] = np.Inf\n",
    "    \n",
    "    # Now calculate probability of membership:\n",
    "    #return Pr_C\n",
    "    return log_dec(errMat, e_tilde)"
   ]
  },
  {
   "cell_type": "markdown",
   "metadata": {},
   "source": [
    "## Function to compute Equation of a line given two points:"
   ]
  },
  {
   "cell_type": "code",
   "execution_count": 178,
   "metadata": {},
   "outputs": [
    {
     "name": "stdout",
     "output_type": "stream",
     "text": [
      "1.11860261954 1.52083793107\n"
     ]
    }
   ],
   "source": [
    "### Description : This function returns the rho and theta parameters for the line: Theta is in radians and rho in pixels:\n",
    "def get_line_eqn(p1,p2): \n",
    "    \n",
    "    # First compute theta: tan(theta) = (x2 -x1)/(y1 -y2)\n",
    "    # NOTE: theta is in radians\n",
    "    theta = np.arctan2( (p2[0] - p1[0]), (p1[1] - p2[1]))\n",
    "\n",
    "    # Now compute rho: \n",
    "    rho = p1[0]*np.cos(theta) + p1[1]*np.sin(theta)\n",
    "    \n",
    "    # Check and see if the distance from origin is a negative value:\n",
    "    if rho < 0: \n",
    "        \n",
    "        rho, theta = get_line_eqn(p2,p1)\n",
    "    \n",
    "    return (rho, theta)\n",
    "\n",
    "\n",
    "### This needs to be tested out a LOT LOT LOT!!!\n",
    "p1 = [1.4,1.05]\n",
    "p2 = [2.6,0.99]\n",
    "\n",
    "rho, theta = get_line_eqn(p1,p2)\n",
    "\n",
    "print (rho,theta)\n",
    "\n",
    "\n",
    "# Function returning different line equations based on order of points. This should NOT Be happening!!! Investigate this!\n",
    "# Tried a temporary FIX! Need to verify this with someone!"
   ]
  },
  {
   "cell_type": "markdown",
   "metadata": {},
   "source": [
    "## Function to get the normal distance from a given line: "
   ]
  },
  {
   "cell_type": "code",
   "execution_count": 182,
   "metadata": {},
   "outputs": [
    {
     "name": "stdout",
     "output_type": "stream",
     "text": [
      "1.0\n"
     ]
    }
   ],
   "source": [
    "### Description: Get the normal distance of a point from the line. \n",
    "## Logic: Rotate the query point into the co-ordinate system of the line. The new x cordinate subtracted from the normal \n",
    "#         distance (rho) gives us the normal distance of the point from the line.\n",
    "def get_normal_dist(line, point): \n",
    "    \n",
    "    \"\"\"\n",
    "    line - Tuple containing the (rho, theta) parameters of the line\n",
    "    point - Tuple containing the (x,y) co-ods of the line\n",
    "    \"\"\"\n",
    "    \n",
    "    # Rotate: \n",
    "    x_rot = np.cos(line[1])*point[0] + np.sin(line[1])*point[1]\n",
    "    \n",
    "    # Normal distance: x_rot - rho:\n",
    "    return x_rot - line[0]\n",
    "\n",
    "### Needs to be tested out throughly!!!\n",
    "# Verify this: \n",
    "line = simLines[0]\n",
    "\n",
    "point = (3,2)\n",
    "\n",
    "dist = get_normal_dist(line, point)\n",
    "\n",
    "print (dist)"
   ]
  },
  {
   "cell_type": "code",
   "execution_count": 183,
   "metadata": {},
   "outputs": [],
   "source": [
    "### Description: \n",
    "def rand_sample_fit_lines(points, numLines): \n",
    "    \n",
    "    #idxs = np.random.choice(len(points), (numLines,2))\n",
    "    \n",
    "    idxs = [(3,5) , (10,16), (12,8),(7,11), (24,36), (32,28), (25,37), (33,22),  (45,49), (51,43), (15,34) , (48,29)\n",
    "           , (12,55), (16,47)]\n",
    "    \n",
    "    # Initialize a list for the fitted lines: \n",
    "    fitted_lines = []\n",
    "    \n",
    "    # Loop through the indices returned: \n",
    "    for idx in idxs:\n",
    "        \n",
    "        p1 = points[idx[0]]\n",
    "        p2 = points[idx[1]]\n",
    "        \n",
    "        fitted_lines.append(get_line_eqn(p1,p2))        \n",
    "    \n",
    "    return fitted_lines, idxs\n",
    "\n",
    "\n",
    "# Test :\n",
    "# points = [(3,4), (4,5),(8,9),(12,17)]\n",
    "\n",
    "# numLines =2\n",
    "\n",
    "# lines = rand_sample_fit_lines(points, numLines)\n",
    "\n",
    "# print (lines)"
   ]
  },
  {
   "cell_type": "code",
   "execution_count": 190,
   "metadata": {},
   "outputs": [],
   "source": [
    "### Description: Informed Sampling Function: \n",
    "\n",
    "# Logic: Samples pairs of points that are close to each other in order to ensure that true lines are sampled more often: \n",
    "\n",
    "def info_rand_sample_fit_lines(points, numLines): \n",
    "    \n",
    "    # Find the nearest neighbors of all the points in the dataset: Using a kd-tree here:\n",
    "    trainData = np.asarray(points)\n",
    "    kdt = KDTree(trainData, leaf_size=30, metric='euclidean')\n",
    "    \n",
    "    # Query the kd-tree: \n",
    "    allDistances, indices = kdt.query(trainData, k=6, return_distance = True)\n",
    "    \n",
    "    \n",
    "    # List of the pairs of indices:\n",
    "    idxs = []\n",
    "    \n",
    "    # Loop through and generate pairs of indices in order to fit lines: \n",
    "    for count in range(numLines): \n",
    "        \n",
    "        idx1 = np.random.choice(len(points))\n",
    "        \n",
    "        choiceIdx2 = indices[idx1, 1:]\n",
    "        \n",
    "        idx2 = np.random.choice(choiceIdx2)\n",
    "        \n",
    "        idxs.append((idx1, idx2))\n",
    "        \n",
    "    \n",
    "    # Initialize a list for the fitted lines: \n",
    "    fitted_lines = []\n",
    "    \n",
    "    # Loop through the indices returned: \n",
    "    for idx in idxs:\n",
    "        \n",
    "        p1 = points[idx[0]]\n",
    "        p2 = points[idx[1]]\n",
    "        \n",
    "        fitted_lines.append(get_line_eqn(p1,p2))        \n",
    "    \n",
    "    return fitted_lines, idxs"
   ]
  },
  {
   "cell_type": "markdown",
   "metadata": {},
   "source": [
    "## GENSAC Iterative function: "
   ]
  },
  {
   "cell_type": "code",
   "execution_count": 229,
   "metadata": {},
   "outputs": [],
   "source": [
    "### Description: The steps in this function are: \n",
    "# 1. Randomly sample pairs of points (number of pairs is a parameter) - With replacement ??\n",
    "# 2. Fit lines through the pairs of points. \n",
    "# 3. Compute normal distance of each point from each line - Nested loop operation. \n",
    "# 4. Compute Probability of membership of each point in each line\n",
    "# 5. Iteratively refine estimates of: \n",
    "#    - Prob validity points \n",
    "#    - Prob validity lines\n",
    "\n",
    "def iterative_function(points, numLines, numIter, e_tilde, gamma_tilde, beta_tilde, errThresh): \n",
    "    \n",
    "    \"\"\"\"\n",
    "    Points - List of tuples, where each tuple has (x,y) co-ods of the points. \n",
    "    numLines - Number of pairs of points to be randomly sampled\n",
    "    numIter - Number of ietrations for which estimates of Prob should be refined\n",
    "    e_tilde - Critical distance for 50% probability of memebership in the line\n",
    "    gamma_tilde - Critical fraction of valid points for 50% probability of validity of a line\n",
    "    beta_tilde  - Critical fraction of valid lines for 50% probability of validity of a point\n",
    "    \"\"\"\n",
    "    \n",
    "    numPoints = len(points)\n",
    "    \n",
    "    # Randomly sample pairs and get the corresponding rho and theta parameters for a line fitted to the pair: \n",
    "    # Returns a list of tuples - Each tuple has the rho and theta parameters for the line: \n",
    "    lines ,idxs = info_rand_sample_fit_lines(points, numLines)\n",
    "    \n",
    "#     print (\" The euqations of the fitted lines are: \")\n",
    "#     print (lines)\n",
    "#     print (\" -------------------------- \")\n",
    "    \n",
    "    \n",
    "    # Compute normal distance of each point from each line: Store in a 2-D numpy array: \n",
    "    # Points along 1st axis - Rows - axis= 0\n",
    "    # Lines along 2nd axis - Columns - axis=1\n",
    "    \n",
    "    # Initialize the 2-D array: \n",
    "    normDist = np.zeros((numPoints, numLines))\n",
    "    \n",
    "    \n",
    "    # Indices for the 2-D array: \n",
    "    j,k = 0,0\n",
    "    \n",
    "    # Loop through points:\n",
    "    for point in points: \n",
    "        \n",
    "        k = 0\n",
    "        \n",
    "        # Loop through the lines: \n",
    "        for line in lines:\n",
    "            \n",
    "            normDist[j,k] = get_normal_dist(line,point)\n",
    "            \n",
    "            # Increment the column (line) index:\n",
    "            k+=1\n",
    "        \n",
    "        \n",
    "        #Increment the row (point) index\n",
    "        j += 1\n",
    "        \n",
    "    # Transform the Normal Distance matrix to the Probability of Membership matrix: \n",
    "    Pr_C = log_dec(normDist,e_tilde)\n",
    "    #Pr_C = Pr_mem_alt(normDist, errThresh,e_tilde)\n",
    "    \n",
    "    #print (Pr_C)\n",
    "    #print (np.sum(Pr_C, axis=0))\n",
    "    \n",
    "    \n",
    "    ## Iteratively refine estimates of Prob of Validity - Points and Lines: \n",
    "    iterCount = 0\n",
    "    \n",
    "    # Initialize Probability of Validity of points and lines: \n",
    "    initProb =1\n",
    "    Pr_A = initProb*np.ones((numPoints,1))\n",
    "    Pr_V = np.zeros((numLines,1))\n",
    "    \n",
    "    \n",
    "    # Initialize gamma and beta: Fractions of valid points and lines respectively: \n",
    "    gamma = np.zeros_like(Pr_V)\n",
    "    beta = np.zeros_like(Pr_A)\n",
    "    \n",
    "    # Initialize the figure and subplots: \n",
    "    #fig, axes = plt.subplots(numLines,1, sharex = True)\n",
    "    \n",
    "    while iterCount < numIter: \n",
    "        \n",
    "        # For each line: \n",
    "        for k in range(numLines):\n",
    "            \n",
    "            # Compute expected fraction of valid points: \n",
    "            gamma[k] = np.dot(Pr_A.T, Pr_C[:,k])/np.sum(Pr_A)\n",
    "            \n",
    "            #print (gamma[k], end=\" ->\")\n",
    "        \n",
    "            # Compute Probability of Validity: \n",
    "            Pr_V[k] = log_inc(gamma[k], gamma_tilde)\n",
    "            \n",
    "            \n",
    "        \n",
    "        # For each point: \n",
    "        for j in range(numPoints):\n",
    "        \n",
    "            # Compute expected fraction of valid lines in which it is a member: \n",
    "            beta[j] = np.dot(Pr_V.T, Pr_C[j,:])/np.sum(Pr_V)\n",
    "            \n",
    "            \n",
    "            #print (beta[j], end=\" ->\")\n",
    "            \n",
    "        #print (\" \")\n",
    "            \n",
    "        # Compute Probability of Validity: \n",
    "        Pr_A  = log_inc(beta, beta_tilde)\n",
    "        \n",
    "        \n",
    "        iterCount +=1\n",
    "        \n",
    "#     # Sort the lines according to Probability of Validity:\n",
    "#     idx_sort = np.argsort(Pr_V, axis=0)\n",
    "    \n",
    "#     print (\" The equations of candidate lines and their probability of validity are: \")   \n",
    "\n",
    "    \n",
    "#     for idx in idx_sort:         \n",
    "#         print (lines[int(idx)] , end = '-- >')\n",
    "#         print (Pr_V[idx])\n",
    "        \n",
    "    return lines, Pr_A, Pr_V\n",
    "    \n",
    "         \n",
    "    "
   ]
  },
  {
   "cell_type": "code",
   "execution_count": 231,
   "metadata": {},
   "outputs": [
    {
     "name": "stdout",
     "output_type": "stream",
     "text": [
      " The time taken by the algorithm is  0.012202262878417969  secs\n",
      " The true line equations are:\n",
      "[(1.0, 1.5707963267948966), (4.0, 1.5707963267948966), (3.4569957581881914, -0.69473827619670314)]\n",
      " ------------- \n",
      " The probability of validity of the points is: \n",
      "Point# 1->[ 0.99631764]\n",
      "Point# 2->[ 0.99058918]\n",
      "Point# 3->[ 0.99196801]\n",
      "Point# 4->[ 0.99518868]\n",
      "Point# 5->[ 0.99635975]\n",
      "Point# 6->[ 0.99398533]\n",
      "Point# 7->[ 0.99573625]\n",
      "Point# 8->[ 0.99360504]\n",
      "Point# 9->[ 0.99479971]\n",
      "Point# 10->[ 0.99523055]\n",
      "Point# 11->[ 0.99306778]\n",
      "Point# 12->[ 0.98502287]\n",
      "Point# 13->[ 0.99425103]\n",
      "Point# 14->[ 0.99565619]\n",
      "Point# 15->[ 0.99587968]\n",
      "Point# 16->[ 0.00157481]\n",
      "Point# 17->[ 0.00016723]\n",
      "Point# 18->[ 0.00519702]\n",
      "Point# 19->[ 0.01017285]\n",
      "Point# 20->[ 0.02779949]\n",
      "Point# 21->[ 0.99151583]\n",
      "Point# 22->[ 0.99524782]\n",
      "Point# 23->[ 0.9952984]\n",
      "Point# 24->[ 0.9936641]\n",
      "Point# 25->[ 0.99362752]\n",
      "Point# 26->[ 0.99466773]\n",
      "Point# 27->[ 0.99256411]\n",
      "Point# 28->[ 0.9953642]\n",
      "Point# 29->[ 0.99395594]\n",
      "Point# 30->[ 0.99362709]\n",
      "Point# 31->[ 0.99323498]\n",
      "Point# 32->[ 0.99007217]\n",
      "Point# 33->[ 0.98839139]\n",
      "Point# 34->[ 0.98953627]\n",
      "Point# 35->[ 0.99069677]\n",
      "Point# 36->[ 0.00171042]\n",
      "Point# 37->[  9.70635629e-05]\n",
      "Point# 38->[ 0.04376905]\n",
      "Point# 39->[ 0.02085803]\n",
      "Point# 40->[ 0.00551271]\n",
      "Point# 41->[ 0.97817761]\n",
      "Point# 42->[ 0.83624496]\n",
      "Point# 43->[ 0.95918822]\n",
      "Point# 44->[ 0.87976348]\n",
      "Point# 45->[ 0.99142151]\n",
      "Point# 46->[ 0.89181242]\n",
      "Point# 47->[ 0.50260658]\n",
      "Point# 48->[ 0.96178486]\n",
      "Point# 49->[ 0.9731572]\n",
      "Point# 50->[ 0.99031086]\n",
      "Point# 51->[ 0.96325579]\n",
      "Point# 52->[ 0.9795723]\n",
      "Point# 53->[ 0.97179394]\n",
      "Point# 54->[ 0.97339556]\n",
      "Point# 55->[ 0.99058816]\n",
      "Point# 56->[ 0.96384906]\n",
      "Point# 57->[ 0.46809313]\n",
      "Point# 58->[ 0.00069468]\n",
      "Point# 59->[ 0.04306087]\n",
      "Point# 60->[ 0.00731828]\n"
     ]
    }
   ],
   "source": [
    "### Test out the iterative function: \n",
    "import time\n",
    "# Test Case - 1: Two segments - Different slopes and intercepts:\n",
    "# numLines to try - 6: \n",
    "\n",
    "e_tilde = 0.03\n",
    "errThresh = 0.06\n",
    "gamma_tilde = 0.2\n",
    "beta_tilde = 0.02\n",
    "numLines = 20\n",
    "numIter = 2\n",
    "\n",
    "\n",
    "# This is just a syntax check: \n",
    "sTime = time.time()\n",
    "lines , Pr_A, Pr_V = iterative_function(simPoints, numLines, numIter, e_tilde, gamma_tilde, beta_tilde,errThresh)\n",
    "eTime = time.time()\n",
    "\n",
    "\n",
    "print (\" The time taken by the algorithm is \", eTime - sTime , \" secs\")\n",
    "\n",
    "print(\" The true line equations are:\")\n",
    "print(simLines)\n",
    "print (\" ------------- \")\n",
    "\n",
    "print (\" The probability of validity of the points is: \")\n",
    "\n",
    "for i in range(len(Pr_A)):\n",
    "    \n",
    "    print (\"Point#\" , i+1, end=\"->\")\n",
    "    print (Pr_A[i])\n"
   ]
  },
  {
   "cell_type": "code",
   "execution_count": 232,
   "metadata": {},
   "outputs": [
    {
     "name": "stdout",
     "output_type": "stream",
     "text": [
      "[(1.0222493267679655, 1.5451480277681244), (3.8204671338465723, 1.6195007454862571), (1.0743489230883643, 1.5433210716442745), (1.1270920128547079, 1.5118255782323726), (1.0604533779494194, 1.5130280900281887), (0.98064174338650367, 1.5912301790405368), (3.3636020776503202, -0.71726486824271518), (4.3459298684597929, 1.4886381727447269), (3.977429001362776, 1.5753915677935577), (0.85028865501152917, 1.6628616897778985), (3.9141017725127809, 1.5892730196192515)]\n"
     ]
    },
    {
     "data": {
      "image/png": "[encoded data removed]",
      "text/plain": [
       "<matplotlib.figure.Figure at 0x7fb6914d82e8>"
      ]
     },
     "metadata": {},
     "output_type": "display_data"
    }
   ],
   "source": [
    "## Generate plot of the distribution on Probability of Validity of planes: Use histogram plot: \n",
    "\n",
    "num_bins = 30\n",
    "\n",
    "# Histogram of Pr_V\n",
    "nv, binsv, patchesv = plt.hist(Pr_V, num_bins, normed=1)\n",
    "\n",
    "plt.grid()\n",
    "\n",
    "\n",
    "# Identify the segments: \n",
    "idxLines = np.where(Pr_V > 0.3)[0]\n",
    "\n",
    "estLines = []\n",
    "\n",
    "for idx in idxLines: \n",
    "\n",
    "    estLines.append(lines[int(idx)])\n",
    "    \n",
    "    \n",
    "print (estLines)"
   ]
  },
  {
   "cell_type": "code",
   "execution_count": 233,
   "metadata": {},
   "outputs": [
    {
     "data": {
      "image/png": "[encoded data removed]",
      "text/plain": [
       "<matplotlib.figure.Figure at 0x7fb6914e04e0>"
      ]
     },
     "metadata": {},
     "output_type": "display_data"
    }
   ],
   "source": [
    "## Generate plot of the distribution on Probability of Validity of points: Use histogram plot: \n",
    "\n",
    "num_bins = 30\n",
    "\n",
    "# Histogram of Pr_A\n",
    "na, binsa, patchesa = plt.hist(Pr_A, num_bins, normed=1)\n",
    "\n",
    "# Plot the threshold line: \n",
    "threshPrA = 0.2\n",
    "threshArray = threshPrA*np.ones((50,1))\n",
    "yArr = np.linspace(0, 10, 50)\n",
    "\n",
    "plt.plot(threshArray, yArr, 'k--')\n",
    "plt.grid()"
   ]
  },
  {
   "cell_type": "code",
   "execution_count": 234,
   "metadata": {},
   "outputs": [
    {
     "data": {
      "text/plain": [
       "Text(0,0.5,'Y-coordinate(m)')"
      ]
     },
     "execution_count": 234,
     "metadata": {},
     "output_type": "execute_result"
    },
    {
     "data": {
      "image/png": "[encoded data removed]",
      "text/plain": [
       "<matplotlib.figure.Figure at 0x7fb6913fd0b8>"
      ]
     },
     "metadata": {},
     "output_type": "display_data"
    }
   ],
   "source": [
    "### Plot showing identified outliers: \n",
    "\n",
    "idxOutliers = np.where(Pr_A < 0.4)[0]\n",
    "\n",
    "# Start by plotting the true segments: \n",
    "for seg in segments: \n",
    "    \n",
    "    plt.plot([seg[0][0], seg[1][0]], [seg[0][1] , seg[1][1]])\n",
    "    \n",
    "\n",
    "# # Now plot the estimated segments: \n",
    "# for seg in estLines: \n",
    "    \n",
    "#     plt.plot([seg[0][0], seg[1][0]], [seg[0][1] , seg[1][1]])\n",
    "    \n",
    "\n",
    "# Now plot all the points: \n",
    "for point in simPoints: \n",
    "    \n",
    "    plt.plot(point[0], point[1], 'ro')\n",
    "    \n",
    "# Now plot only the outliers: \n",
    "for idx in idxOutliers: \n",
    "    \n",
    "    plt.plot(simPoints[idx][0] , simPoints[idx][1], 'ks', markerfacecolor='none')\n",
    "\n",
    "plt.grid()\n",
    "plt.gca().invert_yaxis()\n",
    "plt.xlabel(' X-coordinate (m)')\n",
    "plt.ylabel('Y-coordinate(m)')"
   ]
  },
  {
   "cell_type": "code",
   "execution_count": 243,
   "metadata": {},
   "outputs": [
    {
     "name": "stdout",
     "output_type": "stream",
     "text": [
      "(4,)\n",
      "(4, 2)\n",
      "[50 60]\n"
     ]
    }
   ],
   "source": [
    "PrA = np.array([1,2,3,4])\n",
    "\n",
    "print (PrA.shape)\n",
    "\n",
    "PrC = np.array([[1,2], [3,4], [5,6], [7,8]])\n",
    "                \n",
    "print (PrC.shape)\n",
    "\n",
    "dot = np.dot(PrA, PrC)\n",
    "\n",
    "print (dot)"
   ]
  },
  {
   "cell_type": "code",
   "execution_count": null,
   "metadata": {},
   "outputs": [],
   "source": []
  }
 ],
 "metadata": {
  "kernelspec": {
   "display_name": "Python 3",
   "language": "python",
   "name": "python3"
  },
  "language_info": {
   "codemirror_mode": {
    "name": "ipython",
    "version": 3
   },
   "file_extension": ".py",
   "mimetype": "text/x-python",
   "name": "python",
   "nbconvert_exporter": "python",
   "pygments_lexer": "ipython3",
   "version": "3.5.2"
  }
 },
 "nbformat": 4,
 "nbformat_minor": 2
}

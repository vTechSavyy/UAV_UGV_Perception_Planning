{
 "cells": [
  {
   "cell_type": "code",
   "execution_count": 1,
   "metadata": {},
   "outputs": [],
   "source": [
    "# Generalized Sampling and Consensus: \n",
    "\n",
    "# ETC: 27TH January 2018 9 pm E.S.T\n",
    "\n",
    "# Input is an image with line segments. \n",
    "\n",
    "# 1.Run Canny Edge detector and get raw data points that potentially lie on edges (there may be outliers)\n",
    "\n",
    "# 2. Run GENSAC and retain only the lines with Prob Validity greater than a Threshold\n",
    "\n",
    "# 3. Using the segments which have membership in selected lines apply split algorithm "
   ]
  },
  {
   "cell_type": "code",
   "execution_count": 2,
   "metadata": {},
   "outputs": [],
   "source": [
    "import numpy as np\n",
    "%matplotlib inline"
   ]
  },
  {
   "cell_type": "markdown",
   "metadata": {},
   "source": [
    "## Function to simulate points sampled from Lines:"
   ]
  },
  {
   "cell_type": "code",
   "execution_count": 55,
   "metadata": {},
   "outputs": [
    {
     "data": {
      "image/png": "[encoded data removed]",
      "text/plain": [
       "<matplotlib.figure.Figure at 0x7fa5a4247160>"
      ]
     },
     "metadata": {},
     "output_type": "display_data"
    }
   ],
   "source": [
    "## Returns a list of tuples. Each tuple contains (x,y) co-ods of the points. \n",
    "def simulate_points(segments, nPoints, nOutliers, stdDevX, stdDevY): \n",
    "    \n",
    "    \"\"\"\n",
    "    segments - List of lists. Each sub-lists consists of 2 tuples. Each Tuple containing (x,y) for the end points of line\n",
    "    nPoints - Number of points to be sampled from each line\n",
    "    nOutliers - Number of outliers to be sampled from each line\n",
    "    stdDevX  - Standard Deviation of noise in X\n",
    "    stdDevY  - Standard Deviation of noise in Y\n",
    "    \n",
    "    \"\"\"  \n",
    "    simPoints = []\n",
    "    simLines = []\n",
    "    \n",
    "    for seg in segments: \n",
    "        \n",
    "        minX, maxX = seg[0][0] , seg[1][0]\n",
    "        \n",
    "        line = get_line_eqn(seg[0], seg[1])\n",
    "        \n",
    "        for p in range(nPoints):\n",
    "                \n",
    "            x = minX + (maxX - minX)*np.random.random_sample() + stdDevX*np.random.randn()\n",
    "                \n",
    "            y = (line[0] - x*np.cos(line[1]))/(np.sin(line[1])) + stdDevY*np.random.randn()\n",
    "            \n",
    "            simPoints.append((x,y))\n",
    "            \n",
    "        simLines.append(line)\n",
    "            \n",
    "    return simPoints, simLines\n",
    "            \n",
    "\n",
    "### Test this out: \n",
    "seg1 = [(1,1) ,(3,1)]\n",
    "seg2 = [(3,4) ,(5,4)]\n",
    "\n",
    "segments = [seg1, seg2]\n",
    "\n",
    "nPoints = 10\n",
    "nOutliers = 5\n",
    "\n",
    "stdDevX = 0.05\n",
    "stdDevY = 0.05\n",
    "                \n",
    "simPoints , simLines = simulate_points(segments, nPoints, nOutliers, stdDevX, stdDevY)\n",
    "\n",
    "\n",
    "np.random.shuffle(simPoints)\n",
    "\n",
    "    \n",
    "from matplotlib import pyplot as plt\n",
    "\n",
    "# Start by plotting the maze segments: \n",
    "for seg in segments: \n",
    "    \n",
    "    plt.plot([seg[0][0], seg[1][0]], [seg[0][1] , seg[1][1]])\n",
    "\n",
    "for point in simPoints: \n",
    "    \n",
    "    plt.plot(point[0], point[1], 'ro')\n",
    "\n",
    "plt.grid()\n",
    "\n",
    "plt.xlim(0,5)\n",
    "plt.ylim(0,5)\n",
    "plt.gca().invert_yaxis()\n",
    "    \n",
    "    "
   ]
  },
  {
   "cell_type": "markdown",
   "metadata": {},
   "source": [
    "## Logistic Functions: "
   ]
  },
  {
   "cell_type": "code",
   "execution_count": 81,
   "metadata": {},
   "outputs": [
    {
     "name": "stdout",
     "output_type": "stream",
     "text": [
      "[(1.0, 1.5707963267948966), (4.0, 1.5707963267948966)]\n"
     ]
    }
   ],
   "source": [
    "### 1. Monotonically Increasing Logistic function:\n",
    "def log_inc(vec, param):     \n",
    "    \n",
    "    return vec**2/(vec**2 +param**2)\n",
    "\n",
    "### Monotonically decreasing logistic function: \n",
    "def log_dec(vec, param): \n",
    "    \n",
    "    return param**2/(vec**2 + param**2)\n",
    "\n",
    "print (simLines)"
   ]
  },
  {
   "cell_type": "code",
   "execution_count": 82,
   "metadata": {},
   "outputs": [],
   "source": [
    "### Alternative function to compute Probability of Membership: \n",
    "def Pr_mem_alt(errMat,errThresh, e_tilde): \n",
    "    \n",
    "#     Pr_C= np.zeros_like(errMat)\n",
    "    \n",
    "#     # Threshold the values in the error matrix: \n",
    "#     Pr_C[errMat > errThresh] = 0\n",
    "    \n",
    "#     Pr_C[errMat < errThresh] = 1\n",
    "    \n",
    "    errMat[errMat > errThresh] = np.Inf\n",
    "    \n",
    "    # Now calculate probability of membership:\n",
    "    #return Pr_C\n",
    "    return log_dec(errMat, e_tilde)"
   ]
  },
  {
   "cell_type": "markdown",
   "metadata": {},
   "source": [
    "## Function to compute Equation of a line given two points:"
   ]
  },
  {
   "cell_type": "code",
   "execution_count": 83,
   "metadata": {},
   "outputs": [
    {
     "name": "stdout",
     "output_type": "stream",
     "text": [
      "0.707106781187 -0.785398163397\n"
     ]
    }
   ],
   "source": [
    "### Description : This function returns the rho and theta parameters for the line: Theta is in radians and rho in pixels:\n",
    "def get_line_eqn(p1,p2): \n",
    "    \n",
    "    # First compute theta: tan(theta) = (x2 -x1)/(y1 -y2)\n",
    "    # NOTE: theta is in radians\n",
    "    theta = np.arctan2( (p2[0] - p1[0]), (p1[1] - p2[1]))\n",
    "\n",
    "    # Now compute rho: \n",
    "    rho = p1[0]*np.cos(theta) + p1[1]*np.sin(theta)\n",
    "    \n",
    "    # Check and see if the distance from origin is a negative value:\n",
    "    if rho < 0: \n",
    "        \n",
    "        rho, theta = get_line_eqn(p2,p1)\n",
    "    \n",
    "    return (rho, theta)\n",
    "\n",
    "\n",
    "### This needs to be tested out a LOT LOT LOT!!!\n",
    "p1 = (3,2)\n",
    "p2 = (5,4)\n",
    "\n",
    "rho, theta = get_line_eqn(p1,p2)\n",
    "\n",
    "print (rho,theta)\n",
    "\n",
    "\n",
    "# Function returning different line equations based on order of points. This should NOT Be happening!!! Investigate this!\n",
    "# Tried a temporary FIX! Need to verify this with someone!"
   ]
  },
  {
   "cell_type": "markdown",
   "metadata": {},
   "source": [
    "## Function to get the normal distance from a given line: "
   ]
  },
  {
   "cell_type": "code",
   "execution_count": 84,
   "metadata": {},
   "outputs": [
    {
     "name": "stdout",
     "output_type": "stream",
     "text": [
      "1.0\n"
     ]
    }
   ],
   "source": [
    "### Description: Get the normal distance of a point from the line. \n",
    "## Logic: Rotate the query point into the co-ordinate system of the line. The new x cordinate subtracted from the normal \n",
    "#         distance (rho) gives us the normal distance of the point from the line.\n",
    "def get_normal_dist(line, point): \n",
    "    \n",
    "    \"\"\"\n",
    "    line - Tuple containing the (rho, theta) parameters of the line\n",
    "    point - Tuple containing the (x,y) co-ods of the line\n",
    "    \"\"\"\n",
    "    \n",
    "    # Rotate: \n",
    "    x_rot = np.cos(line[1])*point[0] + np.sin(line[1])*point[1]\n",
    "    \n",
    "    # Normal distance: x_rot - rho:\n",
    "    return x_rot - line[0]\n",
    "\n",
    "### Needs to be tested out throughly!!!\n",
    "# Verify this: \n",
    "line = simLines[0]\n",
    "\n",
    "point = (3,2)\n",
    "\n",
    "dist = get_normal_dist(line, point)\n",
    "\n",
    "print (dist)"
   ]
  },
  {
   "cell_type": "code",
   "execution_count": 85,
   "metadata": {},
   "outputs": [
    {
     "name": "stdout",
     "output_type": "stream",
     "text": [
      "([(0.70710678118654791, 2.3561944901923448), (0.55470019622523203, -0.5880026035475675)], array([[0, 2],\n",
      "       [3, 1]]))\n"
     ]
    }
   ],
   "source": [
    "### Description: \n",
    "def rand_sample_fit_lines(points, numLines): \n",
    "    \n",
    "    idxs = np.random.choice(len(points), (numLines,2), replace = False)\n",
    "    \n",
    "    # Initialize a list for the fitted lines: \n",
    "    fitted_lines = []\n",
    "    \n",
    "    # Loop through the indices returned: \n",
    "    for idx in idxs:\n",
    "        \n",
    "        p1 = points[idx[0]]\n",
    "        p2 = points[idx[1]]\n",
    "        \n",
    "        fitted_lines.append(get_line_eqn(p1,p2))        \n",
    "    \n",
    "    return fitted_lines, idxs\n",
    "\n",
    "\n",
    "# Test :\n",
    "points = [(3,4), (4,5),(8,9),(12,17)]\n",
    "\n",
    "numLines =2\n",
    "\n",
    "lines = rand_sample_fit_lines(points, numLines)\n",
    "\n",
    "print (lines)"
   ]
  },
  {
   "cell_type": "markdown",
   "metadata": {},
   "source": [
    "## GENSAC Iterative function: "
   ]
  },
  {
   "cell_type": "code",
   "execution_count": 90,
   "metadata": {},
   "outputs": [],
   "source": [
    "### Description: The steps in this function are: \n",
    "# 1. Randomly sample pairs of points (number of pairs is a parameter) - With replacement ??\n",
    "# 2. Fit lines through the pairs of points. \n",
    "# 3. Compute normal distance of each point from each line - Nested loop operation. \n",
    "# 4. Compute Probability of membership of each point in each line\n",
    "# 5. Iteratively refine estimates of: \n",
    "#    - Prob validity points \n",
    "#    - Prob validity lines\n",
    "\n",
    "def iterative_function(points, numLines, numIter, e_tilde, gamma_tilde, beta_tilde, errThresh): \n",
    "    \n",
    "    \"\"\"\"\n",
    "    Points - List of tuples, where each tuple has (x,y) co-ods of the points. \n",
    "    numLines - Number of pairs of points to be randomly sampled\n",
    "    numIter - Number of ietrations for which estimates of Prob should be refined\n",
    "    e_tilde - Critical distance for 50% probability of memebership in the line\n",
    "    gamma_tilde - Critical fraction of valid points for 50% probability of validity of a line\n",
    "    beta_tilde  - Critical fraction of valid lines for 50% probability of validity of a point\n",
    "    \"\"\"\n",
    "    \n",
    "    numPoints = len(points)\n",
    "    \n",
    "    # Randomly sample pairs and get the corresponding rho and theta parameters for a line fitted to the pair: \n",
    "    # Returns a list of tuples - Each tuple has the rho and theta parameters for the line: \n",
    "    lines ,idxs = rand_sample_fit_lines(points, numLines)\n",
    "    \n",
    "    \n",
    "    # Compute normal distance of each point from each line: Store in a 2-D numpy array: \n",
    "    # Points along 1st axis - Rows - axis= 0\n",
    "    # Lines along 2nd axis - Columns - axis=1\n",
    "    \n",
    "    # Initialize the 2-D array: \n",
    "    normDist = np.zeros((numPoints, numLines))\n",
    "    \n",
    "    \n",
    "    # Indices for the 2-D array: \n",
    "    j,k = 0,0\n",
    "    \n",
    "    # Loop through points:\n",
    "    for point in points: \n",
    "        \n",
    "        k = 0\n",
    "        \n",
    "        # Loop through the lines: \n",
    "        for line in lines:\n",
    "            \n",
    "            normDist[j,k] = get_normal_dist(line,point)\n",
    "            \n",
    "            # Increment the column (line) index:\n",
    "            k+=1\n",
    "        \n",
    "        \n",
    "        #Increment the row (point) index\n",
    "        j += 1\n",
    "        \n",
    "    # Transform the Normal Distance matrix to the Probability of Membership matrix: \n",
    "    #Pr_C = log_dec(normDist,e_tilde)\n",
    "    Pr_C = Pr_mem_alt(normDist, errThresh,e_tilde)\n",
    "    \n",
    "    #print (Pr_C)\n",
    "    #print (np.sum(Pr_C, axis=0))\n",
    "    \n",
    "    \n",
    "    ## Iteratively refine estimates of Prob of Validity - Points and Lines: \n",
    "    iterCount = 0\n",
    "    \n",
    "    # Initialize Probability of Validity of points and lines: \n",
    "    initProb =1\n",
    "    Pr_A = initProb*np.ones((numPoints,1))\n",
    "    Pr_V = np.zeros((numLines,1))\n",
    "    \n",
    "    \n",
    "    # Initialize gamma and beta: Fractions of valid points and lines respectively: \n",
    "    gamma = np.zeros_like(Pr_V)\n",
    "    beta = np.zeros_like(Pr_A)\n",
    "    \n",
    "    # Initialize the figure and subplots: \n",
    "    #fig, axes = plt.subplots(numLines,1, sharex = True)\n",
    "    \n",
    "    while iterCount < numIter: \n",
    "        \n",
    "        # For each line: \n",
    "        for k in range(numLines):\n",
    "            \n",
    "            # Compute expected fraction of valid points: \n",
    "            gamma[k] = np.dot(Pr_A.T, Pr_C[:,k])/np.sum(Pr_A)\n",
    "            \n",
    "            print (gamma[k], end=\" ->\")\n",
    "        \n",
    "            # Compute Probability of Validity: \n",
    "            Pr_V[k] = log_inc(gamma[k], gamma_tilde)\n",
    "            \n",
    "            # Update the plots of Probability of Validity of \n",
    "#             axes[k].plot(iterCount, Pr_V[k],'ro')\n",
    "#             axes[k].grid()\n",
    "            \n",
    "        print (\" \")\n",
    "        \n",
    "        # For each point: \n",
    "        for j in range(numPoints):\n",
    "        \n",
    "            # Compute expected fraction of valid lines in which it is a member: \n",
    "            beta[j] = np.dot(Pr_V.T, Pr_C[j,:])/np.sum(Pr_V)\n",
    "            \n",
    "            \n",
    "            #print (beta[j], end=\" ->\")\n",
    "            \n",
    "        #print (\" \")\n",
    "            \n",
    "        # Compute Probability of Validity: \n",
    "        Pr_A  = log_inc(beta, beta_tilde)\n",
    "        \n",
    "        \n",
    "        iterCount +=1\n",
    "        \n",
    "    # Sort the lines according to Probability of Validity:\n",
    "    idx_sort = np.argsort(Pr_V, axis=0)\n",
    "    \n",
    "    for sort in range(numLines):         \n",
    "        print (lines[sort] , end = '-- >')\n",
    "        print (Pr_V[sort])\n",
    "        \n",
    "    return idxs\n",
    "    \n",
    "         \n",
    "    "
   ]
  },
  {
   "cell_type": "code",
   "execution_count": 93,
   "metadata": {},
   "outputs": [
    {
     "name": "stdout",
     "output_type": "stream",
     "text": [
      "[ 0.12522026] ->[ 0.23933889] ->[ 0.10709581] ->[ 0.16325704] ->[ 0.10831198] ->[ 0.14976254] -> \n",
      "[ 0.16770503] ->[ 0.34443959] ->[ 0.12612186] ->[ 0.22628697] ->[ 0.1021733] ->[ 0.20633061] -> \n",
      "[ 0.17605325] ->[ 0.36011599] ->[ 0.12230549] ->[ 0.23752888] ->[ 0.06433618] ->[ 0.2163564] -> \n",
      "[ 0.18337501] ->[ 0.37141412] ->[ 0.1220096] ->[ 0.24606798] ->[ 0.03331385] ->[ 0.22460804] -> \n",
      "(0.99060601571671913, -0.73923942988334379)-- >[ 0.0642183]\n",
      "(0.9600853582311718, 1.5997000077935035)-- >[ 0.21968117]\n",
      "(2.528249319880393, -0.12441373064710667)-- >[ 0.02948454]\n",
      "(0.33279691977182591, -0.83381402292755014)-- >[ 0.10998004]\n",
      "(0.42662959904568654, -0.71015807457109248)-- >[ 0.00225981]\n",
      "(3.7286984596027111, 1.6157883491806884)-- >[ 0.09334608]\n",
      " The true line equations are:\n",
      "[(1.0, 1.5707963267948966), (4.0, 1.5707963267948966)]\n"
     ]
    }
   ],
   "source": [
    "### Test out the iterative function: \n",
    "\n",
    "# Test Case - 1: Two segments - Different slopes and intercepts:\n",
    "# numLines to try - 6: \n",
    "\n",
    "e_tilde = 0.02\n",
    "errThresh = 0.06\n",
    "gamma_tilde = 0.6\n",
    "beta_tilde = 0.08\n",
    "numLines = 6\n",
    "numIter = 4\n",
    "\n",
    "\n",
    "# This is just a syntax check: \n",
    "indexes = iterative_function(simPoints, numLines, numIter, e_tilde, gamma_tilde, beta_tilde,errThresh)\n",
    "\n",
    "print(\" The true line equations are:\")\n",
    "print(simLines)\n"
   ]
  },
  {
   "cell_type": "code",
   "execution_count": 141,
   "metadata": {},
   "outputs": [
    {
     "name": "stdout",
     "output_type": "stream",
     "text": [
      "45.0\n",
      "135.0\n",
      "-135.0\n",
      "-45.0\n"
     ]
    }
   ],
   "source": [
    "### To test: \n",
    "# Plot the lines with highest probability of validity: \n"
   ]
  },
  {
   "cell_type": "code",
   "execution_count": 52,
   "metadata": {},
   "outputs": [
    {
     "data": {
      "image/png": "[encoded data removed]",
      "text/plain": [
       "<matplotlib.figure.Figure at 0x7fa5a439edd8>"
      ]
     },
     "metadata": {},
     "output_type": "display_data"
    }
   ],
   "source": [
    "# Start by plotting the maze segments: \n",
    "for seg in segments: \n",
    "    \n",
    "    plt.plot([seg[0][0], seg[1][0]], [seg[0][1] , seg[1][1]])\n",
    "\n",
    "for idx in indexes: \n",
    "    \n",
    "    plt.plot(simPoints[idx[0]][0], simPoints[idx[0]][1], 'ro')\n",
    "    \n",
    "    plt.plot(simPoints[idx[1]][0], simPoints[idx[1]][1], 'bo')\n",
    "\n",
    "plt.grid()\n",
    "\n",
    "plt.xlim(0,5)\n",
    "plt.ylim(0,5)\n",
    "plt.gca().invert_yaxis()"
   ]
  },
  {
   "cell_type": "code",
   "execution_count": null,
   "metadata": {},
   "outputs": [],
   "source": []
  }
 ],
 "metadata": {
  "kernelspec": {
   "display_name": "Python 3",
   "language": "python",
   "name": "python3"
  },
  "language_info": {
   "codemirror_mode": {
    "name": "ipython",
    "version": 3
   },
   "file_extension": ".py",
   "mimetype": "text/x-python",
   "name": "python",
   "nbconvert_exporter": "python",
   "pygments_lexer": "ipython3",
   "version": "3.5.2"
  }
 },
 "nbformat": 4,
 "nbformat_minor": 2
}
